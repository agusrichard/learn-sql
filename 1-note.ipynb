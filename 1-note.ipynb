{
 "cells": [
  {
   "cell_type": "markdown",
   "metadata": {},
   "source": [
    "# Learning Note 1: Week 1"
   ]
  },
  {
   "cell_type": "markdown",
   "metadata": {},
   "source": [
    "1. Welcome\n",
    "- SQL: important skill for data science\n",
    "- Advantages of learning SQL:\n",
    "    - boost the professional profile\n",
    "2. Introduction to Databases\n",
    "- What is SQL: is a languange to work with databases\n",
    "- Data: collection of information\n",
    "- Database: A repository of data-\n",
    "- Relational database: stored in tabular form\n",
    "- RDBMS: software to work with relational database, to access, manipulation, storage\n",
    "- Basic SQL commands:\n",
    "    - create\n",
    "    - insert\n",
    "    - select\n",
    "    - update\n",
    "    - delete\n",
    "3. How to create database instance?\n",
    "- Cloud database: using cloud, ex: IBM bd2 "
   ]
  }
 ],
 "metadata": {
  "kernelspec": {
   "display_name": "Python 3",
   "language": "python",
   "name": "python3"
  },
  "language_info": {
   "codemirror_mode": {
    "name": "ipython",
    "version": 3
   },
   "file_extension": ".py",
   "mimetype": "text/x-python",
   "name": "python",
   "nbconvert_exporter": "python",
   "pygments_lexer": "ipython3",
   "version": "3.7.3"
  }
 },
 "nbformat": 4,
 "nbformat_minor": 2
}
